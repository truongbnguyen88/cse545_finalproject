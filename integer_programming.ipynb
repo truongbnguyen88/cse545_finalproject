{
 "cells": [
  {
   "cell_type": "code",
   "execution_count": null,
   "id": "b7be6774",
   "metadata": {},
   "outputs": [],
   "source": [
    "import numpy as np\n",
    "import matplotlib.pyplot as plt\n",
    "import seaborn as sns\n",
    "import pandas as pd\n",
    "import yaml, sys, os\n",
    "import pickle as pkl\n",
    "import pulp, shutil\n",
    "\n",
    "pd.set_option('display.max_rows', 200)\n",
    "pd.set_option('display.max_columns', 200)\n",
    "\n",
    "\n",
    "import warnings\n",
    "warnings.filterwarnings('ignore')"
   ]
  },
  {
   "cell_type": "code",
   "execution_count": null,
   "id": "68d83292",
   "metadata": {},
   "outputs": [],
   "source": [
    "# Set random seed for reproducibility\n",
    "np.random.seed(242)"
   ]
  },
  {
   "cell_type": "markdown",
   "id": "41e6a8f0",
   "metadata": {},
   "source": [
    "### Solve Integer Programming with Genetic Algorithm + Wisdom of Artificial Crowds\n",
    "\n",
    "Integer Programming:\n",
    "\n",
    "optimize $$c^T x$$\n",
    "\n",
    "subject to $$ Ax \\leq b$$\n",
    "\n",
    "and $$x \\geq 0, \\; x \\in Z$$"
   ]
  },
  {
   "cell_type": "code",
   "execution_count": null,
   "id": "c56f16f4",
   "metadata": {},
   "outputs": [],
   "source": [
    "# read in the parameters for genetic algorithm from inputs.yml\n",
    "with open('inputs.yml', 'rb') as f:\n",
    "    params = yaml.safe_load(f.read())\n",
    "\n",
    "problem_size = params['n']\n",
    "preload_data_flag = params['data_load']"
   ]
  },
  {
   "cell_type": "markdown",
   "id": "dc1459fd",
   "metadata": {},
   "source": [
    "### Data preperation"
   ]
  },
  {
   "cell_type": "code",
   "execution_count": null,
   "id": "1b5caf6f",
   "metadata": {},
   "outputs": [],
   "source": [
    "class Initializer:\n",
    "    def __init__(self, n, n_constraints=10):\n",
    "        self.n = n\n",
    "        self.n_constraints = n_constraints\n",
    "    def create_vector_c(self):\n",
    "        return np.random.randint(-10, 10, self.n)\n",
    "    def create_matrix_A(self):\n",
    "        return np.random.randint(-5, 10, (self.n_constraints, self.n))\n",
    "    def create_vector_b(self):\n",
    "        return np.random.randint(self.n*2, self.n*10, self.n_constraints)\n",
    "    def save_initial_data(self, c, A, b, filename=None):\n",
    "        with open(filename, 'wb') as f:\n",
    "            pkl.dump({'c': c, 'A': A, 'b': b}, f)\n",
    "    \n",
    "def load_initial_data(filename):\n",
    "    with open(filename, 'rb') as f:\n",
    "        data = pkl.load(f)\n",
    "    return data['c'], data['A'], data['b']\n",
    "\n",
    "if preload_data_flag:\n",
    "    c, A, b = load_initial_data(filename=f'data/linear_programming_data_{problem_size}.pkl')\n",
    "else:\n",
    "    num_constraints = max(int(problem_size/16), 5)\n",
    "    initializer = Initializer(problem_size, num_constraints)\n",
    "    c = initializer.create_vector_c()\n",
    "    A = initializer.create_matrix_A()\n",
    "    b = initializer.create_vector_b()\n",
    "    initializer.save_initial_data(c, A, b, filename=f'data/linear_programming_data_{problem_size}.pkl')\n",
    "    sys.exit(\"Data initialized and saved. Please set 'data_load' to True in inputs.yml to load the data next time.\")\n",
    "\n",
    "print(A.shape)\n",
    "print(b.shape)\n",
    "print(c.shape)"
   ]
  },
  {
   "cell_type": "code",
   "execution_count": null,
   "id": "7b567479",
   "metadata": {},
   "outputs": [],
   "source": [
    "def solve_integer_programming(c, A, b):\n",
    "    \"\"\"\"\n",
    "    Maximize cᵀx\n",
    "    subject to Ax ≤ b\n",
    "    and x ≥ 0, x ∈ Z\n",
    "    \"\"\"\n",
    "    c = np.array(c)\n",
    "    A = np.array(A)\n",
    "    b = np.array(b)\n",
    "    n_vars = len(c)\n",
    "    n_constraints = len(b)\n",
    "    # 1. Create a linear programming model (using PuLP)\n",
    "    model = pulp.LpProblem(\"MatrixForm_LP\", pulp.LpMaximize)\n",
    "    # 2. Create optimization, integer variables 0 <= x0, x1, x2, ... <= 50\n",
    "    x = pulp.LpVariable.dicts(\"x\", range(n_vars), lowBound=0, upBound=50, cat=\"Integer\")\n",
    "    # 3. Objective: maximize cᵀx\n",
    "    model += pulp.lpSum(c[j] * x[j] for j in range(n_vars))\n",
    "    # 4. Constraints: A_i * x ≤ b_i\n",
    "    for i in range(n_constraints):\n",
    "        model += pulp.lpSum(A[i, j] * x[j] for j in range(n_vars)) <= b[i]\n",
    "    # 5. Solve\n",
    "    model.solve(pulp.COIN_CMD(path=\"/opt/homebrew/bin/cbc\", msg=False))\n",
    "    y = pulp.value(model.objective)\n",
    "    return x, y\n",
    "\n",
    "# Solve the integer programming:\n",
    "# Maximize cᵀx\n",
    "# subject to Ax ≤ b\n",
    "# and x ≥ 0, x ∈ Z\n",
    "x, obj_value = solve_integer_programming(c, A, b)\n",
    "print(\"Objective value =\", obj_value)\n",
    "# prepare data\n",
    "results_data = {\n",
    "    \"Variable\": [f\"x{j}\" for j in range(problem_size)],\n",
    "    \"Value\": [x[j].value() for j in range(problem_size)]\n",
    "}\n",
    "df = pd.DataFrame(results_data)\n",
    "# df = df.sort_values(\"Variable\").reset_index(drop=True)\n",
    "df.to_pickle(f\"data/optimal_solution_{problem_size}.pkl\")\n",
    "df[df[\"Value\"] > 0].head(problem_size)"
   ]
  },
  {
   "cell_type": "code",
   "execution_count": null,
   "id": "6fffb155",
   "metadata": {},
   "outputs": [],
   "source": []
  }
 ],
 "metadata": {
  "kernelspec": {
   "display_name": "Python 3",
   "language": "python",
   "name": "python3"
  },
  "language_info": {
   "codemirror_mode": {
    "name": "ipython",
    "version": 3
   },
   "file_extension": ".py",
   "mimetype": "text/x-python",
   "name": "python",
   "nbconvert_exporter": "python",
   "pygments_lexer": "ipython3",
   "version": "3.14.0"
  }
 },
 "nbformat": 4,
 "nbformat_minor": 5
}
